{
 "cells": [
  {
   "cell_type": "code",
   "execution_count": 1,
   "metadata": {},
   "outputs": [
    {
     "name": "stdout",
     "output_type": "stream",
     "text": [
      "pygame 2.6.1 (SDL 2.28.4, Python 3.12.6)\n",
      "Hello from the pygame community. https://www.pygame.org/contribute.html\n"
     ]
    },
    {
     "ename": "NameError",
     "evalue": "name 'root' is not defined",
     "output_type": "error",
     "traceback": [
      "\u001b[0;31m---------------------------------------------------------------------------\u001b[0m",
      "\u001b[0;31mNameError\u001b[0m                                 Traceback (most recent call last)",
      "Cell \u001b[0;32mIn[1], line 7\u001b[0m\n\u001b[1;32m      4\u001b[0m \u001b[38;5;28;01mimport\u001b[39;00m\u001b[38;5;250m \u001b[39m\u001b[38;5;21;01mrandom\u001b[39;00m\n\u001b[1;32m      5\u001b[0m \u001b[38;5;28;01mimport\u001b[39;00m\u001b[38;5;250m \u001b[39m\u001b[38;5;21;01mpygame\u001b[39;00m\n\u001b[0;32m----> 7\u001b[0m tk\u001b[38;5;241m.\u001b[39mLabel(\u001b[43mroot\u001b[49m, text\u001b[38;5;241m=\u001b[39m\u001b[38;5;124m\"\u001b[39m\u001b[38;5;124mYOU\u001b[39m\u001b[38;5;124m\"\u001b[39m, font\u001b[38;5;241m=\u001b[39m(\u001b[38;5;124m\"\u001b[39m\u001b[38;5;124mHelvetica\u001b[39m\u001b[38;5;124m\"\u001b[39m, \u001b[38;5;241m14\u001b[39m, \u001b[38;5;124m\"\u001b[39m\u001b[38;5;124mbold\u001b[39m\u001b[38;5;124m\"\u001b[39m), bg\u001b[38;5;241m=\u001b[39m\u001b[38;5;124m\"\u001b[39m\u001b[38;5;124m#c8f2e5\u001b[39m\u001b[38;5;124m\"\u001b[39m, fg\u001b[38;5;241m=\u001b[39m\u001b[38;5;124m\"\u001b[39m\u001b[38;5;124m#6a0dad\u001b[39m\u001b[38;5;124m\"\u001b[39m)\u001b[38;5;241m.\u001b[39mpack()\n\u001b[1;32m      8\u001b[0m user_label \u001b[38;5;241m=\u001b[39m tk\u001b[38;5;241m.\u001b[39mLabel(root, bg\u001b[38;5;241m=\u001b[39m\u001b[38;5;124m\"\u001b[39m\u001b[38;5;124m#c8f2e5\u001b[39m\u001b[38;5;124m\"\u001b[39m)\n\u001b[1;32m      9\u001b[0m user_label\u001b[38;5;241m.\u001b[39mpack(pady\u001b[38;5;241m=\u001b[39m\u001b[38;5;241m5\u001b[39m)\n",
      "\u001b[0;31mNameError\u001b[0m: name 'root' is not defined"
     ]
    }
   ],
   "source": [
    "import tkinter as tk\n",
    "from tkinter import ttk\n",
    "from PIL import Image, ImageTk\n",
    "import random\n",
    "import pygame\n",
    "\n",
    "tk.Label(root, text=\"YOU\", font=(\"Helvetica\", 14, \"bold\"), bg=\"#c8f2e5\", fg=\"#6a0dad\").pack()\n",
    "user_label = tk.Label(root, bg=\"#c8f2e5\")\n",
    "user_label.pack(pady=5)\n",
    "\n",
    "tk.Label(root, text=\"COMPUTER\", font=(\"Helvetica\", 14, \"bold\"), bg=\"#c8f2e5\", fg=\"#cc5500\").pack()\n",
    "computer_label = tk.Label(root, bg=\"#c8f2e5\")\n",
    "computer_label.pack(pady=5)\n",
    "\n",
    "\n",
    "result_label = tk.Label(root, text=\"\", font=(\"Helvetica\", 22, \"bold\"), bg=\"#c8f2e5\")\n",
    "result_label.pack(pady=10)\n",
    "\n",
    "\n",
    "score_text = tk.StringVar()\n",
    "score_text.set(\"Score – You: 0  Computer: 0\")\n",
    "score_label = tk.Label(root, textvariable=score_text, font=(\"Helvetica\", 14), bg=\"#c8f2e5\", fg=\"#003366\")\n",
    "score_label.pack(pady=5)\n",
    "\n",
    "\n",
    "def play(user_choice):\n",
    "    global player_score, computer_score\n",
    "    computer_choice = random.choice([\"Rock\", \"Paper\", \"Scissors\"])\n",
    "\n",
    "    user_label.config(image=images[user_choice])\n",
    "    computer_label.config(image=images[computer_choice])\n",
    "\n",
    "    if user_choice == computer_choice:\n",
    "        result = \"You Tied!\"\n",
    "        result_label.config(fg=\"blue\")\n",
    "    elif (user_choice == \"Rock\" and computer_choice == \"Scissors\") or \\\n",
    "         (user_choice == \"Paper\" and computer_choice == \"Rock\") or \\\n",
    "         (user_choice == \"Scissors\" and computer_choice == \"Paper\"):\n",
    "        result = \"You Win!\"\n",
    "        player_score += 1\n",
    "        result_label.config(fg=\"green\")\n",
    "        pygame.mixer.music.load(win_sound)\n",
    "        pygame.mixer.music.play()\n",
    "    else:\n",
    "        result = \"You Lose!\"\n",
    "        computer_score += 1\n",
    "        result_label.config(fg=\"red\")\n",
    "        pygame.mixer.music.load(lose_sound)\n",
    "        pygame.mixer.music.play()\n",
    "\n",
    "    result_label.config(text=result)\n",
    "    score_text.set(f\"Score – You: {player_score}  Computer: {computer_score}\")\n",
    "\n",
    "\n",
    "def reset_game():\n",
    "    user_label.config(image=\"\")\n",
    "    computer_label.config(image=\"\")\n",
    "    result_label.config(text=\"\")\n",
    "    result_label.config(fg=\"black\")\n",
    "\n",
    "\n",
    "def reset_score():\n",
    "    global player_score, computer_score\n",
    "    player_score = 0\n",
    "    computer_score = 0\n",
    "    score_text.set(\"Score – You: 0  Computer: 0\")\n"
   ]
  }
 ],
 "metadata": {
  "kernelspec": {
   "display_name": "venv",
   "language": "python",
   "name": "python3"
  },
  "language_info": {
   "codemirror_mode": {
    "name": "ipython",
    "version": 3
   },
   "file_extension": ".py",
   "mimetype": "text/x-python",
   "name": "python",
   "nbconvert_exporter": "python",
   "pygments_lexer": "ipython3",
   "version": "3.12.6"
  }
 },
 "nbformat": 4,
 "nbformat_minor": 2
}
