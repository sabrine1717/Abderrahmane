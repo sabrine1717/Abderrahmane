{
 "cells": [
  {
   "cell_type": "code",
   "execution_count": null,
   "metadata": {},
   "outputs": [],
   "source": [
    "import tkinter as tk\n",
    "from tkinter import ttk\n",
    "from PIL import Image, ImageTk\n",
    "import random\n",
    "import pygame\n",
    "\n",
    "\n",
    "pygame.mixer.init()\n",
    "pygame.mixer.music.load(\"/Users/macsabrine/Downloads/final_rps_assets/jingle.wav\")\n",
    "pygame.mixer.music.play()\n",
    "\n",
    "\n",
    "win_sound = \"/Users/macsabrine/Downloads/final_rps_assets/win.wav\"\n",
    "lose_sound = \"/Users/macsabrine/Downloads/final_rps_assets/lose.wav\"\n",
    "\n",
    "\n",
    "root = tk.Tk()\n",
    "root.title(\"Rock Paper Scissors Game\")\n",
    "root.geometry(\"600x600\")\n",
    "root.config(bg=\"#c8f2e5\")\n",
    "\n",
    "\n",
    "style = ttk.Style()\n",
    "style.configure(\"TButton\", font=(\"Helvetica\", 12), padding=6)\n",
    "style.configure(\"Blue.TButton\", background=\"#a0d2eb\", foreground=\"black\")\n",
    "style.configure(\"Red.TButton\", background=\"#f7a8a8\", foreground=\"black\")\n",
    "\n",
    "\n",
    "full_image = Image.open(\"/Users/macsabrine/Downloads/rps_full.png\")\n",
    "w, h = full_image.size\n",
    "sw = w // 3\n",
    "\n",
    "rock_img = ImageTk.PhotoImage(full_image.crop((0, 0, sw, h)).resize((120, 120)))\n",
    "paper_img = ImageTk.PhotoImage(full_image.crop((sw, 0, 2 * sw, h)).resize((120, 120)))\n",
    "scissors_img = ImageTk.PhotoImage(full_image.crop((2 * sw, 0, w, h)).resize((120, 120)))\n",
    "\n",
    "images = {\"Rock\": rock_img, \"Paper\": paper_img, \"Scissors\": scissors_img}\n",
    "\n",
    "\n",
    "player_score = 0\n",
    "computer_score = 0\n"
   ]
  }
 ],
 "metadata": {
  "kernelspec": {
   "display_name": "venv",
   "language": "python",
   "name": "python3"
  },
  "language_info": {
   "name": "python",
   "version": "3.12.6"
  }
 },
 "nbformat": 4,
 "nbformat_minor": 2
}
