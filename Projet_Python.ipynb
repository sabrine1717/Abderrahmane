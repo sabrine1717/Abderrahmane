{
 "cells": [
  {
   "cell_type": "code",
   "execution_count": null,
   "metadata": {},
   "outputs": [
    {
     "name": "stdout",
     "output_type": "stream",
     "text": [
      "pygame 2.6.1 (SDL 2.28.4, Python 3.12.6)\n",
      "Hello from the pygame community. https://www.pygame.org/contribute.html\n",
      "2.6.1\n"
     ]
    },
    {
     "ename": "",
     "evalue": "",
     "output_type": "error",
     "traceback": [
      "\u001b[1;31mThe Kernel crashed while executing code in the current cell or a previous cell. \n",
      "\u001b[1;31mPlease review the code in the cell(s) to identify a possible cause of the failure. \n",
      "\u001b[1;31mClick <a href='https://aka.ms/vscodeJupyterKernelCrash'>here</a> for more info. \n",
      "\u001b[1;31mView Jupyter <a href='command:jupyter.viewOutput'>log</a> for further details."
     ]
    }
   ],
   "source": [
    "import pygame\n",
    "print(pygame.__version__)\n"
   ]
  },
  {
   "cell_type": "code",
   "execution_count": null,
   "metadata": {},
   "outputs": [
    {
     "name": "stdout",
     "output_type": "stream",
     "text": [
      "pygame 2.6.1 (SDL 2.28.4, Python 3.12.6)\n",
      "Hello from the pygame community. https://www.pygame.org/contribute.html\n"
     ]
    }
   ],
   "source": [
    "import tkinter as tk\n",
    "from tkinter import ttk\n",
    "from PIL import Image, ImageTk\n",
    "import random\n",
    "import pygame\n",
    "\n",
    "\n",
    "pygame.mixer.init()\n",
    "pygame.mixer.music.load(\"/Users/macsabrine/Downloads/final_rps_assets/jingle.wav\")\n",
    "pygame.mixer.music.play()\n",
    "\n",
    "win_sound = \"/Users/macsabrine/Downloads/final_rps_assets/win.wav\"\n",
    "lose_sound = \"/Users/macsabrine/Downloads/final_rps_assets/lose.wav\"\n",
    "\n",
    "\n",
    "root = tk.Tk()\n",
    "root.title(\"Rock Paper Scissors Game\")\n",
    "root.geometry(\"600x600\")\n",
    "root.config(bg=\"#c8f2e5\")\n",
    "\n",
    "\n",
    "style = ttk.Style()\n",
    "style.configure(\"TButton\", font=(\"Helvetica\", 12), padding=6)\n",
    "style.configure(\"Blue.TButton\", background=\"#a0d2eb\", foreground=\"black\")\n",
    "style.configure(\"Red.TButton\", background=\"#f7a8a8\", foreground=\"black\")\n",
    "\n",
    "\n",
    "full_image = Image.open(\"/Users/macsabrine/Downloads/rps_full.png\")\n",
    "w, h = full_image.size\n",
    "sw = w // 3\n",
    "\n",
    "rock_img = ImageTk.PhotoImage(full_image.crop((0, 0, sw, h)).resize((120, 120)))\n",
    "paper_img = ImageTk.PhotoImage(full_image.crop((sw, 0, 2 * sw, h)).resize((120, 120)))\n",
    "scissors_img = ImageTk.PhotoImage(full_image.crop((2 * sw, 0, w, h)).resize((120, 120)))\n",
    "\n",
    "images = {\"Rock\": rock_img, \"Paper\": paper_img, \"Scissors\": scissors_img}\n",
    "\n",
    "\n",
    "player_score = 0\n",
    "computer_score = 0\n",
    "\n",
    "tk.Label(root, text=\"YOU\", font=(\"Helvetica\", 14, \"bold\"), bg=\"#c8f2e5\", fg=\"#6a0dad\").pack()\n",
    "user_label = tk.Label(root, bg=\"#c8f2e5\")\n",
    "user_label.pack(pady=5)\n",
    "\n",
    "tk.Label(root, text=\"COMPUTER\", font=(\"Helvetica\", 14, \"bold\"), bg=\"#c8f2e5\", fg=\"#cc5500\").pack()\n",
    "computer_label = tk.Label(root, bg=\"#c8f2e5\")\n",
    "computer_label.pack(pady=5)\n",
    "\n",
    "\n",
    "result_label = tk.Label(root, text=\"\", font=(\"Helvetica\", 22, \"bold\"), bg=\"#c8f2e5\")\n",
    "result_label.pack(pady=10)\n",
    "\n",
    "\n",
    "score_text = tk.StringVar()\n",
    "score_text.set(\"Score – You: 0  Computer: 0\")\n",
    "score_label = tk.Label(root, textvariable=score_text, font=(\"Helvetica\", 14), bg=\"#c8f2e5\", fg=\"#003366\")\n",
    "score_label.pack(pady=5)\n",
    "\n",
    "\n",
    "def play(user_choice):\n",
    "    global player_score, computer_score\n",
    "\n",
    "    computer_choice = random.choice([\"Rock\", \"Paper\", \"Scissors\"])\n",
    "\n",
    "    user_label.config(image=images[user_choice])\n",
    "    computer_label.config(image=images[computer_choice])\n",
    "\n",
    "    if user_choice == computer_choice:\n",
    "        result = \"You Tied!\"\n",
    "        result_label.config(fg=\"blue\")\n",
    "    elif (user_choice == \"Rock\" and computer_choice == \"Scissors\") or          (user_choice == \"Paper\" and computer_choice == \"Rock\") or          (user_choice == \"Scissors\" and computer_choice == \"Paper\"):\n",
    "        result = \"You Win!\"\n",
    "        player_score += 1\n",
    "        result_label.config(fg=\"green\")\n",
    "        pygame.mixer.music.load(win_sound)\n",
    "        pygame.mixer.music.play()\n",
    "    else:\n",
    "        result = \"You Lose!\"\n",
    "        computer_score += 1\n",
    "        result_label.config(fg=\"red\")\n",
    "        pygame.mixer.music.load(lose_sound)\n",
    "        pygame.mixer.music.play()\n",
    "\n",
    "    result_label.config(text=result)\n",
    "    score_text.set(f\"Score – You: {player_score}  Computer: {computer_score}\")\n",
    "\n",
    "\n",
    "def reset_game():\n",
    "    user_label.config(image=\"\")\n",
    "    computer_label.config(image=\"\")\n",
    "    result_label.config(text=\"\")\n",
    "    result_label.config(fg=\"black\")\n",
    "\n",
    "def reset_score():\n",
    "    global player_score, computer_score\n",
    "    player_score = 0\n",
    "    computer_score = 0\n",
    "    score_text.set(\"Score – You: 0  Computer: 0\")\n",
    "\n",
    "\n",
    "btn_frame = tk.Frame(root, bg=\"#c8f2e5\")\n",
    "btn_frame.pack(pady=10)\n",
    "\n",
    "ttk.Button(btn_frame, text=\"Rock\", command=lambda: play(\"Rock\")).pack(pady=2)\n",
    "ttk.Button(btn_frame, text=\"Paper\", command=lambda: play(\"Paper\")).pack(pady=2)\n",
    "ttk.Button(btn_frame, text=\"Scissors\", command=lambda: play(\"Scissors\")).pack(pady=2)\n",
    "\n",
    "ttk.Button(root, text=\"Play Again\", style=\"Blue.TButton\", command=reset_game).pack(pady=10)\n",
    "ttk.Button(root, text=\"Reset Score\", style=\"Red.TButton\", command=reset_score).pack(pady=5)\n",
    "\n",
    "root.mainloop()\n"
   ]
  }
 ],
 "metadata": {
  "kernelspec": {
   "display_name": "venv",
   "language": "python",
   "name": "python3"
  },
  "language_info": {
   "codemirror_mode": {
    "name": "ipython",
    "version": 3
   },
   "file_extension": ".py",
   "mimetype": "text/x-python",
   "name": "python",
   "nbconvert_exporter": "python",
   "pygments_lexer": "ipython3",
   "version": "3.12.6"
  }
 },
 "nbformat": 4,
 "nbformat_minor": 2
}
