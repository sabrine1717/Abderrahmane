{
 "cells": [
  {
   "cell_type": "code",
   "execution_count": null,
   "metadata": {},
   "outputs": [],
   "source": [
    "\n",
    "btn_frame = tk.Frame(root, bg=\"#c8f2e5\")\n",
    "btn_frame.pack(pady=10)\n",
    "\n",
    "ttk.Button(btn_frame, text=\"Rock\", command=lambda: play(\"Rock\")).pack(pady=2)\n",
    "ttk.Button(btn_frame, text=\"Paper\", command=lambda: play(\"Paper\")).pack(pady=2)\n",
    "ttk.Button(btn_frame, text=\"Scissors\", command=lambda: play(\"Scissors\")).pack(pady=2)\n",
    "\n",
    "\n",
    "ttk.Button(root, text=\"Play Again\", style=\"Blue.TButton\", command=reset_game).pack(pady=10)\n",
    "ttk.Button(root, text=\"Reset Score\", style=\"Red.TButton\", command=reset_score).pack(pady=5)\n",
    "\n",
    "\n",
    "root.mainloop()\n"
   ]
  }
 ],
 "metadata": {
  "language_info": {
   "name": "python"
  }
 },
 "nbformat": 4,
 "nbformat_minor": 2
}
