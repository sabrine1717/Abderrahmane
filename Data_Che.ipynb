{
 "cells": [
  {
   "cell_type": "code",
   "execution_count": 1,
   "metadata": {},
   "outputs": [
    {
     "name": "stdout",
     "output_type": "stream",
     "text": [
      "Mean loan amount: nan\n",
      "Median loan amount: nan\n",
      "Standard deviation: nan\n"
     ]
    },
    {
     "name": "stderr",
     "output_type": "stream",
     "text": [
      "/Users/macsabrine/Desktop/TP_data_M/venv/lib/python3.12/site-packages/numpy/_core/fromnumeric.py:3860: RuntimeWarning: Mean of empty slice.\n",
      "  return _methods._mean(a, axis=axis, dtype=dtype,\n",
      "/Users/macsabrine/Desktop/TP_data_M/venv/lib/python3.12/site-packages/numpy/_core/_methods.py:145: RuntimeWarning: invalid value encountered in scalar divide\n",
      "  ret = ret.dtype.type(ret / rcount)\n",
      "/Users/macsabrine/Desktop/TP_data_M/venv/lib/python3.12/site-packages/numpy/_core/_methods.py:223: RuntimeWarning: Degrees of freedom <= 0 for slice\n",
      "  ret = _var(a, axis=axis, dtype=dtype, out=out, ddof=ddof,\n",
      "/Users/macsabrine/Desktop/TP_data_M/venv/lib/python3.12/site-packages/numpy/_core/_methods.py:181: RuntimeWarning: invalid value encountered in divide\n",
      "  arrmean = um.true_divide(arrmean, div, out=arrmean,\n",
      "/Users/macsabrine/Desktop/TP_data_M/venv/lib/python3.12/site-packages/numpy/_core/_methods.py:215: RuntimeWarning: invalid value encountered in scalar divide\n",
      "  ret = ret.dtype.type(ret / rcount)\n"
     ]
    }
   ],
   "source": [
    "import numpy as np\n",
    "\n",
    "\n",
    "file_path = \"/Users/macsabrine/Downloads/Loan_prediction_dataset (1).csv\"\n",
    "\n",
    "try:\n",
    "\n",
    "    with open(file_path, 'r') as file:\n",
    "\n",
    "        data = np.genfromtxt(file, delimiter=\",\", skip_header=1)\n",
    "\n",
    "\n",
    "    loan_amounts = data[:, 4]\n",
    "\n",
    "\n",
    "    loan_amounts = loan_amounts[~np.isnan(loan_amounts)]\n",
    "\n",
    "\n",
    "    mean = np.mean(loan_amounts)\n",
    "    median = np.median(loan_amounts)\n",
    "    std = np.std(loan_amounts)\n",
    "\n",
    "\n",
    "    print(f\"Mean loan amount: {mean}\")\n",
    "    print(f\"Median loan amount: {median}\")\n",
    "    print(f\"Standard deviation: {std}\")\n",
    "\n",
    "except FileNotFoundError:\n",
    "    print(\"Fichier introuvable. Vérifie le chemin.\")\n",
    "except Exception as e:\n",
    "    print(f\"Erreur : {e}\")\n"
   ]
  },
  {
   "cell_type": "code",
   "execution_count": 1,
   "metadata": {},
   "outputs": [
    {
     "name": "stdout",
     "output_type": "stream",
     "text": [
      "Mean loan amount: nan\n",
      "Median loan amount: nan\n",
      "Standard deviation: nan\n"
     ]
    },
    {
     "name": "stderr",
     "output_type": "stream",
     "text": [
      "/Users/macsabrine/Desktop/TP_data_M/venv/lib/python3.12/site-packages/numpy/_core/fromnumeric.py:3860: RuntimeWarning: Mean of empty slice.\n",
      "  return _methods._mean(a, axis=axis, dtype=dtype,\n",
      "/Users/macsabrine/Desktop/TP_data_M/venv/lib/python3.12/site-packages/numpy/_core/_methods.py:145: RuntimeWarning: invalid value encountered in scalar divide\n",
      "  ret = ret.dtype.type(ret / rcount)\n",
      "/Users/macsabrine/Desktop/TP_data_M/venv/lib/python3.12/site-packages/numpy/_core/_methods.py:223: RuntimeWarning: Degrees of freedom <= 0 for slice\n",
      "  ret = _var(a, axis=axis, dtype=dtype, out=out, ddof=ddof,\n",
      "/Users/macsabrine/Desktop/TP_data_M/venv/lib/python3.12/site-packages/numpy/_core/_methods.py:181: RuntimeWarning: invalid value encountered in divide\n",
      "  arrmean = um.true_divide(arrmean, div, out=arrmean,\n",
      "/Users/macsabrine/Desktop/TP_data_M/venv/lib/python3.12/site-packages/numpy/_core/_methods.py:215: RuntimeWarning: invalid value encountered in scalar divide\n",
      "  ret = ret.dtype.type(ret / rcount)\n"
     ]
    }
   ],
   "source": [
    "import numpy as np\n",
    "\n",
    "# Étape 1 : Ouvrir le fichier avec open()\n",
    "file_path = \"/Users/macsabrine/Downloads/Loan_prediction_dataset.csv\"\n",
    "\n",
    "try:\n",
    "    # Étape 2 : Ouvrir et lire le fichier avec open()\n",
    "    with open(file_path, 'r') as file:\n",
    "        # Étape 3 : Utiliser numpy.genfromtxt pour charger les données\n",
    "        data = np.genfromtxt(file, delimiter=\",\", skip_header=1)\n",
    "\n",
    "    # Étape 4 : Extraire la colonne des montants (par exemple colonne 4 si les montants sont là)\n",
    "    loan_amounts = data[:, 4]  # Change l'index 4 si la colonne est différente\n",
    "\n",
    "    # Supprimer les NaN s’il y en a\n",
    "    loan_amounts = loan_amounts[~np.isnan(loan_amounts)]\n",
    "\n",
    "    # Étape 5 : Calculs statistiques\n",
    "    mean = np.mean(loan_amounts)\n",
    "    median = np.median(loan_amounts)\n",
    "    std = np.std(loan_amounts)\n",
    "\n",
    "    # Affichage\n",
    "    print(f\"Mean loan amount: {mean}\")\n",
    "    print(f\"Median loan amount: {median}\")\n",
    "    print(f\"Standard deviation: {std}\")\n",
    "\n",
    "except FileNotFoundError:\n",
    "    print(\"Fichier introuvable. Vérifie le chemin.\")\n",
    "except Exception as e:\n",
    "    print(f\"Erreur : {e}\")\n"
   ]
  }
 ],
 "metadata": {
  "kernelspec": {
   "display_name": "venv",
   "language": "python",
   "name": "python3"
  },
  "language_info": {
   "codemirror_mode": {
    "name": "ipython",
    "version": 3
   },
   "file_extension": ".py",
   "mimetype": "text/x-python",
   "name": "python",
   "nbconvert_exporter": "python",
   "pygments_lexer": "ipython3",
   "version": "3.12.6"
  }
 },
 "nbformat": 4,
 "nbformat_minor": 2
}
